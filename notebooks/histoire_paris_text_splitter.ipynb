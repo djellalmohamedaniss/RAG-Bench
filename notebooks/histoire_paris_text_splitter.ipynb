{
 "cells": [
  {
   "cell_type": "code",
   "execution_count": 1,
   "metadata": {},
   "outputs": [],
   "source": [
    "from ebooklib import epub\n",
    "from bs4 import BeautifulSoup\n",
    "\n",
    "import ebooklib\n",
    "\n",
    "import pandas as pd"
   ]
  },
  {
   "cell_type": "code",
   "execution_count": 2,
   "metadata": {},
   "outputs": [],
   "source": [
    "def extract_and_split_epub(file_path):\n",
    "    # Load the EPUB file\n",
    "    book = epub.read_epub(file_path)\n",
    "\n",
    "    content_by_title = {}\n",
    "\n",
    "    for item in book.items:\n",
    "        # Check if the item is a chapter\n",
    "        if item.get_type() == ebooklib.ITEM_DOCUMENT:\n",
    "            # Parse the HTML content\n",
    "            soup = BeautifulSoup(item.get_content(), \"html.parser\")\n",
    "\n",
    "            # Find all titles (adjust the tags as per your EPUB structure)\n",
    "            titles = soup.find_all([\"h1\", \"h2\", \"h3\"])  # Adjust tags if needed\n",
    "\n",
    "            # Initialize current title\n",
    "            current_title = \"Untitled Section\"\n",
    "            content = \"\"\n",
    "\n",
    "            for element in soup.find_all(True):  # Iterate over all elements\n",
    "                if element.name in [\"h1\", \"h2\", \"h3\"]:\n",
    "                    # Save previous section content\n",
    "                    if current_title and content.strip():\n",
    "                        content_by_title[current_title] = content.strip()\n",
    "\n",
    "                    # Start a new section\n",
    "                    current_title = element.get_text(strip=True)\n",
    "                    content = \"\"\n",
    "                else:\n",
    "                    # Append content to the current section\n",
    "                    content += element.get_text(strip=True) + \"\\n\"\n",
    "\n",
    "            # Save the last section\n",
    "            if current_title and content.strip():\n",
    "                content_by_title[current_title] = content.strip()\n",
    "\n",
    "    return content_by_title"
   ]
  },
  {
   "cell_type": "code",
   "execution_count": 3,
   "metadata": {},
   "outputs": [
    {
     "name": "stderr",
     "output_type": "stream",
     "text": [
      "/Users/mohameddjellal/Library/Caches/pypoetry/virtualenvs/rag-bench-aMooNfa2-py3.11/lib/python3.11/site-packages/ebooklib/epub.py:1395: UserWarning: In the future version we will turn default option ignore_ncx to True.\n",
      "  warnings.warn('In the future version we will turn default option ignore_ncx to True.')\n",
      "/Users/mohameddjellal/Library/Caches/pypoetry/virtualenvs/rag-bench-aMooNfa2-py3.11/lib/python3.11/site-packages/ebooklib/epub.py:1423: FutureWarning: This search incorrectly ignores the root element, and will be fixed in a future version.  If you rely on the current behaviour, change it to './/xmlns:rootfile[@media-type]'\n",
      "  for root_file in tree.findall('//xmlns:rootfile[@media-type]', namespaces={'xmlns': NAMESPACES['CONTAINERNS']}):\n"
     ]
    }
   ],
   "source": [
    "file_path = \"../datasets/tableau-historique-paris/1.epub\"\n",
    "sections = extract_and_split_epub(file_path)\n",
    "\n",
    "# Get only titles between AVERTISSEMENT and TABLE DES MATIÈRES.\n",
    "chapters = []\n",
    "\n",
    "start = False\n",
    "\n",
    "for title, content in sections.items():\n",
    "    if title == \"AVERTISSEMENT.\":\n",
    "        start = True\n",
    "        continue\n",
    "    if not start:\n",
    "        continue\n",
    "    if title == \"TABLE DES MATIÈRES.\":\n",
    "        break\n",
    "    chapters.append({\"title\": title, \"content\": content})"
   ]
  },
  {
   "cell_type": "code",
   "execution_count": 4,
   "metadata": {},
   "outputs": [],
   "source": [
    "## Get some statistics\n",
    "df = pd.DataFrame.from_records(chapters)\n",
    "df[\"length\"] = df[\"content\"].apply(lambda text: len(text.split()))\n",
    "\n",
    "# Calculate statistics\n",
    "total_sections = len(df)\n",
    "average_length = df[\"length\"].mean()\n",
    "max_length = df[\"length\"].max()\n",
    "min_length = df[\"length\"].min()\n",
    "median_length = df[\"length\"].median()\n",
    "std_dev = df[\"length\"].std()"
   ]
  },
  {
   "cell_type": "code",
   "execution_count": 5,
   "metadata": {},
   "outputs": [],
   "source": [
    "chapters_stats = {\n",
    "    \"total_sections\": total_sections,\n",
    "    \"average_length\": average_length,\n",
    "    \"max_length\": max_length,\n",
    "    \"min_length\": min_length,\n",
    "    \"median_length\": median_length,\n",
    "    \"std_dev\": std_dev,\n",
    "}"
   ]
  },
  {
   "cell_type": "code",
   "execution_count": 6,
   "metadata": {},
   "outputs": [
    {
     "data": {
      "text/html": [
       "<div>\n",
       "<style scoped>\n",
       "    .dataframe tbody tr th:only-of-type {\n",
       "        vertical-align: middle;\n",
       "    }\n",
       "\n",
       "    .dataframe tbody tr th {\n",
       "        vertical-align: top;\n",
       "    }\n",
       "\n",
       "    .dataframe thead th {\n",
       "        text-align: right;\n",
       "    }\n",
       "</style>\n",
       "<table border=\"1\" class=\"dataframe\">\n",
       "  <thead>\n",
       "    <tr style=\"text-align: right;\">\n",
       "      <th></th>\n",
       "      <th>total_sections</th>\n",
       "      <th>average_length</th>\n",
       "      <th>max_length</th>\n",
       "      <th>min_length</th>\n",
       "      <th>median_length</th>\n",
       "      <th>std_dev</th>\n",
       "    </tr>\n",
       "  </thead>\n",
       "  <tbody>\n",
       "    <tr>\n",
       "      <th>Value</th>\n",
       "      <td>66.0</td>\n",
       "      <td>1177.984848</td>\n",
       "      <td>6829.0</td>\n",
       "      <td>3.0</td>\n",
       "      <td>567.5</td>\n",
       "      <td>1558.89258</td>\n",
       "    </tr>\n",
       "  </tbody>\n",
       "</table>\n",
       "</div>"
      ],
      "text/plain": [
       "       total_sections  average_length  max_length  min_length  median_length  \\\n",
       "Value            66.0     1177.984848      6829.0         3.0          567.5   \n",
       "\n",
       "          std_dev  \n",
       "Value  1558.89258  "
      ]
     },
     "execution_count": 6,
     "metadata": {},
     "output_type": "execute_result"
    }
   ],
   "source": [
    "pd.DataFrame.from_dict(chapters_stats, orient=\"index\", columns=[\"Value\"]).T"
   ]
  }
 ],
 "metadata": {
  "kernelspec": {
   "display_name": "rag-bench-aMooNfa2-py3.11",
   "language": "python",
   "name": "python3"
  },
  "language_info": {
   "codemirror_mode": {
    "name": "ipython",
    "version": 3
   },
   "file_extension": ".py",
   "mimetype": "text/x-python",
   "name": "python",
   "nbconvert_exporter": "python",
   "pygments_lexer": "ipython3",
   "version": "3.11.10"
  }
 },
 "nbformat": 4,
 "nbformat_minor": 2
}
